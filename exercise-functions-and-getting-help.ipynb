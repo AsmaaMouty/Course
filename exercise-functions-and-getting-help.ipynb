{
 "cells": [
  {
   "cell_type": "markdown",
   "id": "d4b65e20",
   "metadata": {
    "_cell_guid": "44f6cb3f-f458-4958-9fff-3759dd5c25b7",
    "_uuid": "784a5f41-1af6-4f92-8c91-a85801b9408d",
    "papermill": {
     "duration": 0.006466,
     "end_time": "2022-12-25T07:06:42.373182",
     "exception": false,
     "start_time": "2022-12-25T07:06:42.366716",
     "status": "completed"
    },
    "tags": []
   },
   "source": [
    "**This notebook is an exercise in the [Python](https://www.kaggle.com/learn/python) course.  You can reference the tutorial at [this link](https://www.kaggle.com/colinmorris/functions-and-getting-help).**\n",
    "\n",
    "---"
   ]
  },
  {
   "cell_type": "markdown",
   "id": "edea0a6b",
   "metadata": {
    "_cell_guid": "3d962cd8-22fa-4f89-b192-6c369e637c61",
    "_uuid": "2df62e32-17ed-473d-a8f7-daebf40933e1",
    "papermill": {
     "duration": 0.005271,
     "end_time": "2022-12-25T07:06:42.384071",
     "exception": false,
     "start_time": "2022-12-25T07:06:42.378800",
     "status": "completed"
    },
    "tags": []
   },
   "source": [
    "Functions are powerful. Try writing some yourself.\n",
    "\n",
    "As before, don't forget to run the setup code below before jumping into question 1."
   ]
  },
  {
   "cell_type": "code",
   "execution_count": 1,
   "id": "907a0791",
   "metadata": {
    "_cell_guid": "9b7c9ea0-1f52-4474-abc3-189598239c52",
    "_kg_hide-input": true,
    "_kg_hide-output": true,
    "_uuid": "a17b5a76-1a4b-40de-9b8c-1eb0150a029b",
    "collapsed": false,
    "execution": {
     "iopub.execute_input": "2022-12-25T07:06:42.397181Z",
     "iopub.status.busy": "2022-12-25T07:06:42.396237Z",
     "iopub.status.idle": "2022-12-25T07:06:42.456135Z",
     "shell.execute_reply": "2022-12-25T07:06:42.454941Z"
    },
    "jupyter": {
     "outputs_hidden": false
    },
    "papermill": {
     "duration": 0.070503,
     "end_time": "2022-12-25T07:06:42.459913",
     "exception": false,
     "start_time": "2022-12-25T07:06:42.389410",
     "status": "completed"
    },
    "tags": []
   },
   "outputs": [
    {
     "name": "stdout",
     "output_type": "stream",
     "text": [
      "Setup complete.\n"
     ]
    }
   ],
   "source": [
    "# SETUP. You don't need to worry for now about what this code does or how it works.\n",
    "from learntools.core import binder; binder.bind(globals())\n",
    "from learntools.python.ex2 import *\n",
    "print('Setup complete.')"
   ]
  },
  {
   "cell_type": "markdown",
   "id": "45cb2d14",
   "metadata": {
    "_cell_guid": "64edec6d-313c-491b-8435-4613c91734e1",
    "_uuid": "cf94c216-8b46-4229-b4c6-c689d71abf74",
    "papermill": {
     "duration": 0.005674,
     "end_time": "2022-12-25T07:06:42.476473",
     "exception": false,
     "start_time": "2022-12-25T07:06:42.470799",
     "status": "completed"
    },
    "tags": []
   },
   "source": [
    "# 1.\n",
    "\n",
    "Complete the body of the following function according to its docstring.\n",
    "\n",
    "HINT: Python has a built-in function `round`."
   ]
  },
  {
   "cell_type": "code",
   "execution_count": 2,
   "id": "c9fe6e81",
   "metadata": {
    "_cell_guid": "9571c191-8acf-4b5b-921b-fbe0f9a3e7a1",
    "_uuid": "a79abea4-da35-4a34-8820-53792d79edf7",
    "collapsed": false,
    "execution": {
     "iopub.execute_input": "2022-12-25T07:06:42.489948Z",
     "iopub.status.busy": "2022-12-25T07:06:42.488708Z",
     "iopub.status.idle": "2022-12-25T07:06:42.501683Z",
     "shell.execute_reply": "2022-12-25T07:06:42.500458Z"
    },
    "jupyter": {
     "outputs_hidden": false
    },
    "papermill": {
     "duration": 0.021855,
     "end_time": "2022-12-25T07:06:42.503869",
     "exception": false,
     "start_time": "2022-12-25T07:06:42.482014",
     "status": "completed"
    },
    "tags": []
   },
   "outputs": [
    {
     "data": {
      "application/javascript": [
       "parent.postMessage({\"jupyterEvent\": \"custom.exercise_interaction\", \"data\": {\"outcomeType\": 1, \"valueTowardsCompletion\": 0.16666666666666666, \"interactionType\": 1, \"questionType\": 2, \"questionId\": \"1_RoundFunctionProblem\", \"learnToolsVersion\": \"0.3.4\", \"failureMessage\": \"\", \"exceptionClass\": \"\", \"trace\": \"\"}}, \"*\")"
      ],
      "text/plain": [
       "<IPython.core.display.Javascript object>"
      ]
     },
     "metadata": {},
     "output_type": "display_data"
    },
    {
     "data": {
      "text/markdown": [
       "<span style=\"color:#33cc33\">Correct</span>"
      ],
      "text/plain": [
       "Correct"
      ]
     },
     "metadata": {},
     "output_type": "display_data"
    }
   ],
   "source": [
    "def round_to_two_places(num):\n",
    "    \"\"\"Return the given number rounded to two decimal places. \n",
    "    \n",
    "    >>> round_to_two_places(3.14159)\n",
    "    3.14\n",
    "    \"\"\"\n",
    "    # Replace this body with your own code.\n",
    "    # (\"pass\" is a keyword that does literally nothing. We used it as a placeholder\n",
    "    # because after we begin a code block, Python requires at least one line of code)\n",
    "    return(round(num,2))\n",
    "    pass\n",
    "\n",
    "# Check your answer\n",
    "q1.check()"
   ]
  },
  {
   "cell_type": "code",
   "execution_count": 3,
   "id": "606a1fda",
   "metadata": {
    "_cell_guid": "017184f1-8923-49b7-94f2-de4eb4e24ac1",
    "_uuid": "32b14785-90d8-42f1-ae99-a3e54066f689",
    "collapsed": false,
    "execution": {
     "iopub.execute_input": "2022-12-25T07:06:42.518287Z",
     "iopub.status.busy": "2022-12-25T07:06:42.516623Z",
     "iopub.status.idle": "2022-12-25T07:06:42.522306Z",
     "shell.execute_reply": "2022-12-25T07:06:42.521405Z"
    },
    "jupyter": {
     "outputs_hidden": false
    },
    "papermill": {
     "duration": 0.014862,
     "end_time": "2022-12-25T07:06:42.524551",
     "exception": false,
     "start_time": "2022-12-25T07:06:42.509689",
     "status": "completed"
    },
    "tags": []
   },
   "outputs": [],
   "source": [
    "# Uncomment the following for a hint\n",
    "#q1.hint()\n",
    "# Or uncomment the following to peek at the solution\n",
    "#q1.solution()"
   ]
  },
  {
   "cell_type": "markdown",
   "id": "33aa5189",
   "metadata": {
    "_cell_guid": "775c75ec-2a96-4193-b8c7-c6e22c6a04e5",
    "_uuid": "07ad8d0c-6ea1-4551-95ba-11178b837326",
    "papermill": {
     "duration": 0.005508,
     "end_time": "2022-12-25T07:06:42.535772",
     "exception": false,
     "start_time": "2022-12-25T07:06:42.530264",
     "status": "completed"
    },
    "tags": []
   },
   "source": [
    "# 2.\n",
    "The help for `round` says that `ndigits` (the second argument) may be negative.\n",
    "What do you think will happen when it is? Try some examples in the following cell."
   ]
  },
  {
   "cell_type": "code",
   "execution_count": 4,
   "id": "a01c790c",
   "metadata": {
    "_cell_guid": "4cef334a-924c-466d-8f2b-88b98b6c131b",
    "_uuid": "075f65dc-7c78-45f8-b21c-3257e78c76d1",
    "collapsed": false,
    "execution": {
     "iopub.execute_input": "2022-12-25T07:06:42.548683Z",
     "iopub.status.busy": "2022-12-25T07:06:42.548253Z",
     "iopub.status.idle": "2022-12-25T07:06:42.554461Z",
     "shell.execute_reply": "2022-12-25T07:06:42.553172Z"
    },
    "jupyter": {
     "outputs_hidden": false
    },
    "papermill": {
     "duration": 0.016345,
     "end_time": "2022-12-25T07:06:42.557751",
     "exception": false,
     "start_time": "2022-12-25T07:06:42.541406",
     "status": "completed"
    },
    "tags": []
   },
   "outputs": [
    {
     "name": "stdout",
     "output_type": "stream",
     "text": [
      "0.0\n"
     ]
    }
   ],
   "source": [
    "# Put your test code here\n",
    "print (round(3.14,-1))"
   ]
  },
  {
   "cell_type": "markdown",
   "id": "2772d1d4",
   "metadata": {
    "_cell_guid": "c91e32ba-8e3e-4489-81e5-e162559bed01",
    "_uuid": "f35bb675-2e2f-4ae9-b724-7f4481760963",
    "papermill": {
     "duration": 0.005711,
     "end_time": "2022-12-25T07:06:42.570970",
     "exception": false,
     "start_time": "2022-12-25T07:06:42.565259",
     "status": "completed"
    },
    "tags": []
   },
   "source": [
    "Can you think of a case where this would be useful?  Once you're ready, run the code cell below to see the answer and to receive credit for completing the problem."
   ]
  },
  {
   "cell_type": "code",
   "execution_count": 5,
   "id": "c5dd3c01",
   "metadata": {
    "_cell_guid": "02536ee3-582b-4cdc-a084-115b37664c35",
    "_uuid": "532e8651-6cd2-4954-ad80-28e1df202181",
    "collapsed": false,
    "execution": {
     "iopub.execute_input": "2022-12-25T07:06:42.585432Z",
     "iopub.status.busy": "2022-12-25T07:06:42.584959Z",
     "iopub.status.idle": "2022-12-25T07:06:42.598059Z",
     "shell.execute_reply": "2022-12-25T07:06:42.596426Z"
    },
    "jupyter": {
     "outputs_hidden": false
    },
    "papermill": {
     "duration": 0.024445,
     "end_time": "2022-12-25T07:06:42.601378",
     "exception": false,
     "start_time": "2022-12-25T07:06:42.576933",
     "status": "completed"
    },
    "tags": []
   },
   "outputs": [
    {
     "data": {
      "application/javascript": [
       "parent.postMessage({\"jupyterEvent\": \"custom.exercise_interaction\", \"data\": {\"interactionType\": 3, \"questionType\": 4, \"questionId\": \"2_RoundNdigitsProblem\", \"learnToolsVersion\": \"0.3.4\", \"valueTowardsCompletion\": 0.0, \"failureMessage\": \"\", \"exceptionClass\": \"\", \"trace\": \"\", \"outcomeType\": 4}}, \"*\")"
      ],
      "text/plain": [
       "<IPython.core.display.Javascript object>"
      ]
     },
     "metadata": {},
     "output_type": "display_data"
    },
    {
     "data": {
      "text/markdown": [
       "<span style=\"color:#33cc99\">Solution:</span> As you've seen, `ndigits=-1` rounds to the nearest 10, `ndigits=-2` rounds to the nearest 100 and so on. Where might this be useful? Suppose we're dealing with large numbers:\n",
       "\n",
       "> The area of Finland is 338,424 km²  \n",
       "> The area of Greenland is 2,166,086 km²\n",
       "\n",
       "We probably don't care whether it's really 338,424, or 338,425, or 338,177. All those digits of accuracy are just distracting. We can chop them off by calling `round()` with `ndigits=-3`:\n",
       "\n",
       "> The area of Finland is 338,000 km²  \n",
       "> The area of Greenland is 2,166,000 km²\n",
       "\n",
       "(We'll talk about how we would get the commas later when we talk about string formatting :))\n"
      ],
      "text/plain": [
       "Solution: As you've seen, `ndigits=-1` rounds to the nearest 10, `ndigits=-2` rounds to the nearest 100 and so on. Where might this be useful? Suppose we're dealing with large numbers:\n",
       "\n",
       "> The area of Finland is 338,424 km²  \n",
       "> The area of Greenland is 2,166,086 km²\n",
       "\n",
       "We probably don't care whether it's really 338,424, or 338,425, or 338,177. All those digits of accuracy are just distracting. We can chop them off by calling `round()` with `ndigits=-3`:\n",
       "\n",
       "> The area of Finland is 338,000 km²  \n",
       "> The area of Greenland is 2,166,000 km²\n",
       "\n",
       "(We'll talk about how we would get the commas later when we talk about string formatting :))"
      ]
     },
     "metadata": {},
     "output_type": "display_data"
    }
   ],
   "source": [
    "# Check your answer (Run this code cell to receive credit!)\n",
    "q2.solution()"
   ]
  },
  {
   "cell_type": "markdown",
   "id": "eb21ce9a",
   "metadata": {
    "_cell_guid": "9b87be98-0a8a-42a4-b827-8092f768d168",
    "_uuid": "07a1058b-6772-434c-8384-8d5d411a609b",
    "papermill": {
     "duration": 0.006314,
     "end_time": "2022-12-25T07:06:42.614060",
     "exception": false,
     "start_time": "2022-12-25T07:06:42.607746",
     "status": "completed"
    },
    "tags": []
   },
   "source": [
    "# 3.\n",
    "\n",
    "In the previous exercise, the candy-sharing friends Alice, Bob and Carol tried to split candies evenly. For the sake of their friendship, any candies left over would be smashed. For example, if they collectively bring home 91 candies, they'll take 30 each and smash 1.\n",
    "\n",
    "Below is a simple function that will calculate the number of candies to smash for *any* number of total candies.\n",
    "\n",
    "Modify it so that it optionally takes a second argument representing the number of friends the candies are being split between. If no second argument is provided, it should assume 3 friends, as before.\n",
    "\n",
    "Update the docstring to reflect this new behaviour."
   ]
  },
  {
   "cell_type": "code",
   "execution_count": 6,
   "id": "dc7f0b4d",
   "metadata": {
    "_cell_guid": "2c8fc940-aeea-45b5-b0a1-508788b87b10",
    "_uuid": "3da2b698-18ad-4707-aa5f-5057c4d99daf",
    "collapsed": false,
    "execution": {
     "iopub.execute_input": "2022-12-25T07:06:42.629836Z",
     "iopub.status.busy": "2022-12-25T07:06:42.628293Z",
     "iopub.status.idle": "2022-12-25T07:06:42.640464Z",
     "shell.execute_reply": "2022-12-25T07:06:42.638854Z"
    },
    "jupyter": {
     "outputs_hidden": false
    },
    "papermill": {
     "duration": 0.022554,
     "end_time": "2022-12-25T07:06:42.643244",
     "exception": false,
     "start_time": "2022-12-25T07:06:42.620690",
     "status": "completed"
    },
    "tags": []
   },
   "outputs": [
    {
     "data": {
      "application/javascript": [
       "parent.postMessage({\"jupyterEvent\": \"custom.exercise_interaction\", \"data\": {\"outcomeType\": 1, \"valueTowardsCompletion\": 0.16666666666666666, \"interactionType\": 1, \"questionType\": 2, \"questionId\": \"3_CandySmashingFunctionProblem\", \"learnToolsVersion\": \"0.3.4\", \"failureMessage\": \"\", \"exceptionClass\": \"\", \"trace\": \"\"}}, \"*\")"
      ],
      "text/plain": [
       "<IPython.core.display.Javascript object>"
      ]
     },
     "metadata": {},
     "output_type": "display_data"
    },
    {
     "data": {
      "text/markdown": [
       "<span style=\"color:#33cc33\">Correct</span>"
      ],
      "text/plain": [
       "Correct"
      ]
     },
     "metadata": {},
     "output_type": "display_data"
    }
   ],
   "source": [
    "def to_smash(total_candies,N_friendes=3):\n",
    "    \"\"\"Return the number of leftover candies that must be smashed after distributing\n",
    "    the given number of candies evenly between 3 friends.\n",
    "    \n",
    "    >>> to_smash(91)\n",
    "    1\n",
    "    \"\"\"\n",
    "    return total_candies % N_friendes\n",
    "\n",
    "# Check your answer\n",
    "q3.check()"
   ]
  },
  {
   "cell_type": "code",
   "execution_count": 7,
   "id": "98634907",
   "metadata": {
    "_cell_guid": "e01f6f13-bab5-4fa9-b356-3131ec388495",
    "_uuid": "8ce3c7ee-b26e-40e4-a9f7-e97a07cfa1fb",
    "collapsed": false,
    "execution": {
     "iopub.execute_input": "2022-12-25T07:06:42.664422Z",
     "iopub.status.busy": "2022-12-25T07:06:42.663756Z",
     "iopub.status.idle": "2022-12-25T07:06:42.671892Z",
     "shell.execute_reply": "2022-12-25T07:06:42.671024Z"
    },
    "jupyter": {
     "outputs_hidden": false
    },
    "papermill": {
     "duration": 0.02206,
     "end_time": "2022-12-25T07:06:42.674424",
     "exception": false,
     "start_time": "2022-12-25T07:06:42.652364",
     "status": "completed"
    },
    "tags": []
   },
   "outputs": [
    {
     "data": {
      "application/javascript": [
       "parent.postMessage({\"jupyterEvent\": \"custom.exercise_interaction\", \"data\": {\"interactionType\": 2, \"questionType\": 2, \"questionId\": \"3_CandySmashingFunctionProblem\", \"learnToolsVersion\": \"0.3.4\", \"valueTowardsCompletion\": 0.0, \"failureMessage\": \"\", \"exceptionClass\": \"\", \"trace\": \"\", \"outcomeType\": 4}}, \"*\")"
      ],
      "text/plain": [
       "<IPython.core.display.Javascript object>"
      ]
     },
     "metadata": {},
     "output_type": "display_data"
    },
    {
     "data": {
      "text/markdown": [
       "<span style=\"color:#3366cc\">Hint:</span> Refer to the section of the last tutorial notebook where we talked about default arguments"
      ],
      "text/plain": [
       "Hint: Refer to the section of the last tutorial notebook where we talked about default arguments"
      ]
     },
     "metadata": {},
     "output_type": "display_data"
    }
   ],
   "source": [
    "q3.hint()"
   ]
  },
  {
   "cell_type": "code",
   "execution_count": 8,
   "id": "d55c7e9b",
   "metadata": {
    "_cell_guid": "968a7e0b-a51a-4ff6-9aa3-5219c6127796",
    "_uuid": "af3c915e-492c-4af4-8141-a26ad1b4020f",
    "collapsed": false,
    "execution": {
     "iopub.execute_input": "2022-12-25T07:06:42.693867Z",
     "iopub.status.busy": "2022-12-25T07:06:42.693178Z",
     "iopub.status.idle": "2022-12-25T07:06:42.700723Z",
     "shell.execute_reply": "2022-12-25T07:06:42.699899Z"
    },
    "jupyter": {
     "outputs_hidden": false
    },
    "papermill": {
     "duration": 0.020853,
     "end_time": "2022-12-25T07:06:42.703133",
     "exception": false,
     "start_time": "2022-12-25T07:06:42.682280",
     "status": "completed"
    },
    "tags": []
   },
   "outputs": [
    {
     "data": {
      "application/javascript": [
       "parent.postMessage({\"jupyterEvent\": \"custom.exercise_interaction\", \"data\": {\"interactionType\": 3, \"questionType\": 2, \"questionId\": \"3_CandySmashingFunctionProblem\", \"learnToolsVersion\": \"0.3.4\", \"valueTowardsCompletion\": 0.0, \"failureMessage\": \"\", \"exceptionClass\": \"\", \"trace\": \"\", \"outcomeType\": 4}}, \"*\")"
      ],
      "text/plain": [
       "<IPython.core.display.Javascript object>"
      ]
     },
     "metadata": {},
     "output_type": "display_data"
    },
    {
     "data": {
      "text/markdown": [
       "<span style=\"color:#33cc99\">Solution:</span> \n",
       "```python\n",
       "def to_smash(total_candies, n_friends=3):\n",
       "    return total_candies % n_friends\n",
       "```"
      ],
      "text/plain": [
       "Solution: \n",
       "```python\n",
       "def to_smash(total_candies, n_friends=3):\n",
       "    return total_candies % n_friends\n",
       "```"
      ]
     },
     "metadata": {},
     "output_type": "display_data"
    }
   ],
   "source": [
    "q3.solution()"
   ]
  },
  {
   "cell_type": "markdown",
   "id": "4a1ec273",
   "metadata": {
    "_cell_guid": "5023bd21-9fa2-4b7a-8c1a-426f79eb77f6",
    "_uuid": "ab64fec4-0bb7-49cf-bc60-1e3b84b08da3",
    "papermill": {
     "duration": 0.006514,
     "end_time": "2022-12-25T07:06:42.720203",
     "exception": false,
     "start_time": "2022-12-25T07:06:42.713689",
     "status": "completed"
    },
    "tags": []
   },
   "source": [
    "# 4. (Optional)\n",
    "\n",
    "It may not be fun, but reading and understanding error messages will be an important part of your Python career.\n",
    "\n",
    "Each code cell below contains some commented buggy code. For each cell...\n",
    "\n",
    "1. Read the code and predict what you think will happen when it's run.\n",
    "2. Then uncomment the code and run it to see what happens. (**Tip**: In the kernel editor, you can highlight several lines and press `ctrl`+`/` to toggle commenting.)\n",
    "3. Fix the code (so that it accomplishes its intended purpose without throwing an exception)\n",
    "\n",
    "<!-- TODO: should this be autochecked? Delta is probably pretty small. -->"
   ]
  },
  {
   "cell_type": "code",
   "execution_count": 9,
   "id": "f2aaa5ee",
   "metadata": {
    "_cell_guid": "cc4f5db3-8c42-485d-845b-72bb09f9b582",
    "_uuid": "956528ae-d7a0-4462-990c-f890935f7bcb",
    "collapsed": false,
    "execution": {
     "iopub.execute_input": "2022-12-25T07:06:42.736263Z",
     "iopub.status.busy": "2022-12-25T07:06:42.735121Z",
     "iopub.status.idle": "2022-12-25T07:06:42.742831Z",
     "shell.execute_reply": "2022-12-25T07:06:42.741771Z"
    },
    "jupyter": {
     "outputs_hidden": false
    },
    "papermill": {
     "duration": 0.018288,
     "end_time": "2022-12-25T07:06:42.745176",
     "exception": false,
     "start_time": "2022-12-25T07:06:42.726888",
     "status": "completed"
    },
    "tags": []
   },
   "outputs": [
    {
     "data": {
      "text/plain": [
       "10.0"
      ]
     },
     "execution_count": 9,
     "metadata": {},
     "output_type": "execute_result"
    }
   ],
   "source": [
    "round_to_two_places(9.9999)"
   ]
  },
  {
   "cell_type": "code",
   "execution_count": 10,
   "id": "1155bd4f",
   "metadata": {
    "_cell_guid": "678ef5cc-8622-4538-a2c5-c64a85c2357a",
    "_uuid": "e3ea98bb-bfe7-4205-90c2-92e9ed2d2ebb",
    "collapsed": false,
    "execution": {
     "iopub.execute_input": "2022-12-25T07:06:42.761718Z",
     "iopub.status.busy": "2022-12-25T07:06:42.760415Z",
     "iopub.status.idle": "2022-12-25T07:06:42.766391Z",
     "shell.execute_reply": "2022-12-25T07:06:42.765574Z"
    },
    "jupyter": {
     "outputs_hidden": false
    },
    "papermill": {
     "duration": 0.016939,
     "end_time": "2022-12-25T07:06:42.769211",
     "exception": false,
     "start_time": "2022-12-25T07:06:42.752272",
     "status": "completed"
    },
    "tags": []
   },
   "outputs": [
    {
     "name": "stdout",
     "output_type": "stream",
     "text": [
      "5\n"
     ]
    }
   ],
   "source": [
    "x = -10\n",
    "y = 5\n",
    "# Which of the two variables above has the smallest absolute value?\n",
    "smallest_abs = min(abs(x),y)\n",
    "print(smallest_abs)"
   ]
  },
  {
   "cell_type": "code",
   "execution_count": 11,
   "id": "1dbc5d1c",
   "metadata": {
    "_cell_guid": "2d932a82-8146-4d51-9ad6-548b8cf7936c",
    "_uuid": "161fe5d8-4efb-46a6-9603-93d44f1433b3",
    "collapsed": false,
    "execution": {
     "iopub.execute_input": "2022-12-25T07:06:42.785824Z",
     "iopub.status.busy": "2022-12-25T07:06:42.784434Z",
     "iopub.status.idle": "2022-12-25T07:06:42.791487Z",
     "shell.execute_reply": "2022-12-25T07:06:42.790080Z"
    },
    "jupyter": {
     "outputs_hidden": false
    },
    "papermill": {
     "duration": 0.018542,
     "end_time": "2022-12-25T07:06:42.794806",
     "exception": false,
     "start_time": "2022-12-25T07:06:42.776264",
     "status": "completed"
    },
    "tags": []
   },
   "outputs": [
    {
     "name": "stdout",
     "output_type": "stream",
     "text": [
      "5\n"
     ]
    }
   ],
   "source": [
    "def f(x):\n",
    "    y = abs(x)\n",
    "    return y\n",
    "\n",
    "print(f(5))"
   ]
  },
  {
   "cell_type": "markdown",
   "id": "7db908cc",
   "metadata": {
    "_cell_guid": "ef0938ea-0b81-4fb3-8742-6ae6bb9507e6",
    "_uuid": "7c6dda6b-de01-4938-ba5c-7eb70f4bda66",
    "papermill": {
     "duration": 0.006818,
     "end_time": "2022-12-25T07:06:42.808986",
     "exception": false,
     "start_time": "2022-12-25T07:06:42.802168",
     "status": "completed"
    },
    "tags": []
   },
   "source": [
    "# Keep Going\n",
    "\n",
    "Nice job with the code. Next up, you'll learn about *conditionals*, which you'll need to **[write interesting programs](https://www.kaggle.com/colinmorris/booleans-and-conditionals)**."
   ]
  },
  {
   "cell_type": "markdown",
   "id": "88ffdb5b",
   "metadata": {
    "_cell_guid": "41e7943c-154c-4f06-91ab-75e6e9858ed4",
    "_uuid": "192902e9-a963-443b-b7b7-769ffb747190",
    "papermill": {
     "duration": 0.008302,
     "end_time": "2022-12-25T07:06:42.824157",
     "exception": false,
     "start_time": "2022-12-25T07:06:42.815855",
     "status": "completed"
    },
    "tags": []
   },
   "source": [
    "---\n",
    "\n",
    "\n",
    "\n",
    "\n",
    "*Have questions or comments? Visit the [course discussion forum](https://www.kaggle.com/learn/python/discussion) to chat with other learners.*"
   ]
  }
 ],
 "metadata": {
  "kernelspec": {
   "display_name": "Python 3",
   "language": "python",
   "name": "python3"
  },
  "language_info": {
   "codemirror_mode": {
    "name": "ipython",
    "version": 3
   },
   "file_extension": ".py",
   "mimetype": "text/x-python",
   "name": "python",
   "nbconvert_exporter": "python",
   "pygments_lexer": "ipython3",
   "version": "3.7.12"
  },
  "papermill": {
   "default_parameters": {},
   "duration": 10.104748,
   "end_time": "2022-12-25T07:06:43.458649",
   "environment_variables": {},
   "exception": null,
   "input_path": "__notebook__.ipynb",
   "output_path": "__notebook__.ipynb",
   "parameters": {},
   "start_time": "2022-12-25T07:06:33.353901",
   "version": "2.3.4"
  }
 },
 "nbformat": 4,
 "nbformat_minor": 5
}
